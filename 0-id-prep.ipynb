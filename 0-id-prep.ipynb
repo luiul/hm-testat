{
 "cells": [
  {
   "cell_type": "markdown",
   "id": "3e525d26-c739-4920-ba36-c2c78e2a6da6",
   "metadata": {},
   "source": [
    "# ID Prep\n",
    "\n",
    "Preparation for student ids. \n",
    "- Download IDs from moodle (admin block > gear > responses > download as .csv)\n"
   ]
  },
  {
   "cell_type": "markdown",
   "id": "e589eda5-63f8-4a8d-a929-7e4b1ace9f97",
   "metadata": {},
   "source": [
    "## Raw ID from moodle form"
   ]
  },
  {
   "cell_type": "code",
   "execution_count": null,
   "id": "59a93976-59d4-4f93-ab4a-f8cf59179931",
   "metadata": {},
   "outputs": [],
   "source": [
    "raw_id = pd.read_csv('./id-raw.csv')"
   ]
  },
  {
   "cell_type": "code",
   "execution_count": null,
   "id": "0c764972-a0af-4488-a82a-2ea77c92a24c",
   "metadata": {},
   "outputs": [],
   "source": [
    "raw_id.head()"
   ]
  },
  {
   "cell_type": "code",
   "execution_count": null,
   "id": "194b18ba-2e0d-4e46-9c7c-4e420c513423",
   "metadata": {},
   "outputs": [],
   "source": [
    "# remove and rename columns\n",
    "id_clean = raw_id.drop(['State','Started on','Completed','Time taken', 'Grade/3.00'],axis=1).rename(columns={'Response 1':'Matrikel','Response 2':'SS','Response 3':'PO'})"
   ]
  },
  {
   "cell_type": "code",
   "execution_count": null,
   "id": "a445a40f-6522-4190-a21a-499f654ef5db",
   "metadata": {},
   "outputs": [],
   "source": [
    "id_clean.head()"
   ]
  },
  {
   "cell_type": "code",
   "execution_count": null,
   "id": "2677775b-3f16-4af4-b407-0396a3270d7c",
   "metadata": {},
   "outputs": [],
   "source": [
    "# export the id-table with removed and renamed columns to csv\n",
    "id_clean.to_csv('./id_clean.csv',index=False)"
   ]
  },
  {
   "cell_type": "markdown",
   "id": "d44b62de-187a-4fd0-a264-1cc9995a63e4",
   "metadata": {},
   "source": [
    "## Update the ID table manually with data from email"
   ]
  },
  {
   "cell_type": "code",
   "execution_count": null,
   "id": "c12acac3-c161-44ba-825c-a64137e91170",
   "metadata": {},
   "outputs": [],
   "source": [
    "# update id_clean manually\n",
    "id_clean_updated = pd.read_csv('./id-clean-updated.csv')"
   ]
  },
  {
   "cell_type": "code",
   "execution_count": null,
   "id": "a760a6f7-a053-4e48-b30f-5350b6a8df84",
   "metadata": {},
   "outputs": [],
   "source": [
    "# merge two columns names into one\n",
    "id_clean_updated['Name'] = id_clean_updated['First name'] + ' ' + id_clean_updated['Surname']"
   ]
  },
  {
   "cell_type": "code",
   "execution_count": null,
   "id": "d2ba545c-2a29-4bf0-91b6-853ddfbea6c7",
   "metadata": {},
   "outputs": [],
   "source": [
    "# drop two redundant name columns and rename matrikel column\n",
    "id_clean_updated = id_clean_updated.drop(['Surname','First name'],axis=1).rename(columns={'Matrikelnummer':'Matrikel'})"
   ]
  },
  {
   "cell_type": "code",
   "execution_count": null,
   "id": "34846984-3e0c-4b6b-9498-c6f31732f70d",
   "metadata": {},
   "outputs": [],
   "source": [
    "id_clean_updated.head()"
   ]
  },
  {
   "cell_type": "code",
   "execution_count": null,
   "id": "11b982a5-a17c-4e08-8b59-a2fa02d1192d",
   "metadata": {},
   "outputs": [],
   "source": [
    "id_clean_updated.info()"
   ]
  },
  {
   "cell_type": "markdown",
   "id": "017bc947-9f58-48cf-b900-beaaf13b0331",
   "metadata": {},
   "source": [
    "## Remove duplicate rows (by name or matrikel)"
   ]
  },
  {
   "cell_type": "code",
   "execution_count": null,
   "id": "9779085c-dbf8-46df-8942-9e373211dae2",
   "metadata": {},
   "outputs": [],
   "source": [
    "dups_by_name = id_clean_updated[id_clean_updated.duplicated(['Name'])]"
   ]
  },
  {
   "cell_type": "code",
   "execution_count": null,
   "id": "308f9560-1b30-4323-9a81-826f9ec820ce",
   "metadata": {},
   "outputs": [],
   "source": [
    "dups_by_name.head()"
   ]
  },
  {
   "cell_type": "code",
   "execution_count": null,
   "id": "249f917f-f2a7-4d6c-8407-c000e775f0ba",
   "metadata": {},
   "outputs": [],
   "source": [
    "id_clean_updated_nodups = id_clean_updated.drop(dups_by_name.index,axis=0)"
   ]
  },
  {
   "cell_type": "code",
   "execution_count": null,
   "id": "ec0a84aa-4c6d-4bac-8404-14665bbc58bb",
   "metadata": {},
   "outputs": [],
   "source": [
    "id_clean_updated_nodups.info()"
   ]
  },
  {
   "cell_type": "code",
   "execution_count": null,
   "id": "df016f6b-7847-48ab-bf85-0a326914678b",
   "metadata": {},
   "outputs": [],
   "source": [
    "# contains dups by matrikel and '-' values\n",
    "dups_by_matrikel = id_clean_updated_nodups[id_clean_updated_nodups.duplicated(['Matrikel'])]"
   ]
  },
  {
   "cell_type": "code",
   "execution_count": null,
   "id": "16832e28-6705-4915-b295-939c77d45b61",
   "metadata": {},
   "outputs": [],
   "source": [
    "dups_by_matrikel.head()"
   ]
  },
  {
   "cell_type": "code",
   "execution_count": null,
   "id": "eb403e07-e6f6-4061-8568-d7fc5432d233",
   "metadata": {},
   "outputs": [],
   "source": [
    "id_clean_updated_nodups2 = id_clean_updated_nodups.drop(dups_by_matrikel.index,axis=0)"
   ]
  },
  {
   "cell_type": "code",
   "execution_count": null,
   "id": "2d493885-e933-40cb-98aa-72a6b67e25eb",
   "metadata": {},
   "outputs": [],
   "source": [
    "id_clean_updated_nodups2.info()"
   ]
  },
  {
   "cell_type": "code",
   "execution_count": null,
   "id": "88dc9273-56e9-4675-a54e-e7a00f417635",
   "metadata": {},
   "outputs": [],
   "source": [
    "# drop last row wih '-' value\n",
    "id_clean_updated_nodups3 = id_clean_updated_nodups2.drop(id_clean_updated_nodups2[id_clean_updated_nodups2['Matrikel'] == '-'].index,axis=0)"
   ]
  },
  {
   "cell_type": "code",
   "execution_count": null,
   "id": "552101d3-ed22-488d-b89d-8958f446568b",
   "metadata": {},
   "outputs": [],
   "source": [
    "id_clean_updated_nodups3.head()"
   ]
  },
  {
   "cell_type": "code",
   "execution_count": null,
   "id": "88d08cd3-de35-4212-9585-8632637f78d0",
   "metadata": {},
   "outputs": [],
   "source": [
    "id_clean_updated_nodups3.info()"
   ]
  },
  {
   "cell_type": "code",
   "execution_count": null,
   "id": "d4e9ab1c-4b75-44bb-b7d5-c90d8d924553",
   "metadata": {},
   "outputs": [],
   "source": [
    "id_clean_updated.to_csv('./id_clean_updated_merged.csv',index=False)"
   ]
  },
  {
   "cell_type": "code",
   "execution_count": null,
   "id": "a79ebcfb-a8d3-40e3-90c7-bc51c0918a20",
   "metadata": {},
   "outputs": [],
   "source": [
    "# use this table in the validator script\n",
    "id_clean_updated_nodups3.to_csv('./id_clean_updated_nodups.csv',index=False)"
   ]
  },
  {
   "cell_type": "code",
   "execution_count": null,
   "id": "b55d67d6-bb52-4c18-be3e-16c7727b6c76",
   "metadata": {},
   "outputs": [],
   "source": []
  }
 ],
 "metadata": {
  "kernelspec": {
   "display_name": "Python 3 (ipykernel)",
   "language": "python",
   "name": "python3"
  },
  "language_info": {
   "codemirror_mode": {
    "name": "ipython",
    "version": 3
   },
   "file_extension": ".py",
   "mimetype": "text/x-python",
   "name": "python",
   "nbconvert_exporter": "python",
   "pygments_lexer": "ipython3",
   "version": "3.8.12"
  }
 },
 "nbformat": 4,
 "nbformat_minor": 5
}
