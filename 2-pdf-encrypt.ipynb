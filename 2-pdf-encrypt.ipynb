{
 "cells": [
  {
   "cell_type": "markdown",
   "id": "a14b1f84-ea89-44c8-a73d-3533d03b94c5",
   "metadata": {},
   "source": [
    "# Stage 2: Encryption\n",
    "\n",
    "In this stage we: \n",
    "\n",
    "- encrypt the graded PDF files against the data frame with valid submissions\n",
    "\n",
    "Rerun the whole notebook before Stage 2, to store the data frame with valid submissions in memory"
   ]
  },
  {
   "cell_type": "code",
   "execution_count": null,
   "id": "6188c6c7-21fe-43b9-b4c2-66964990881b",
   "metadata": {},
   "outputs": [],
   "source": [
    "path = 'z1'"
   ]
  },
  {
   "cell_type": "code",
   "execution_count": null,
   "id": "24b557c5-23a3-41da-9d47-dcf7e0934786",
   "metadata": {},
   "outputs": [],
   "source": [
    "import os\n",
    "import glob\n",
    "\n",
    "import pikepdf\n",
    "from pikepdf import Pdf\n",
    "\n",
    "# Load configuration without altering the environment\n",
    "from dotenv import dotenv_values\n",
    "config = dotenv_values(\".env\")\n",
    "\n",
    "import pandas as pd\n",
    "\n",
    "import img2pdf"
   ]
  },
  {
   "cell_type": "code",
   "execution_count": null,
   "id": "43f97fae-6b9f-4fcc-826f-3b35cc6df7e6",
   "metadata": {},
   "outputs": [],
   "source": [
    "# get valid submissions\n",
    "df_valid_subm = pd.read_csv(f'./{path}/valid-sub.csv')\n",
    "# instantiate md5 and matrikel dictionaries\n",
    "md5_dic = df_valid_subm.to_dict()['MD5']\n",
    "matrikel_dic = df_valid_subm.to_dict()['Matrikel']"
   ]
  },
  {
   "cell_type": "code",
   "execution_count": null,
   "id": "4d207baf-0acf-4869-a8d6-4a14c2492c2c",
   "metadata": {},
   "outputs": [],
   "source": [
    "OWNER, = config.values()"
   ]
  },
  {
   "cell_type": "code",
   "execution_count": null,
   "id": "52e051e1-29f2-4d0f-9618-74ffa6d6bb67",
   "metadata": {},
   "outputs": [],
   "source": [
    "# make new directory for encrypted files\n",
    "os.mkdir(f'./{path}/korrektur/korr-e')"
   ]
  },
  {
   "cell_type": "code",
   "execution_count": null,
   "id": "e4846f32-0350-4124-b949-a4d132cd209f",
   "metadata": {},
   "outputs": [],
   "source": [
    "def encrypt_file_pdf(korrektur_dir):\n",
    "    '''\n",
    "    Input: korrektur directory containing korr and nicht-korr directory; korr directory contains the graded tests as pdf\n",
    "    Output: encrypted graded tests as pdf in new korr-e directory inside korrektur directory\n",
    "    '''\n",
    "    # make list of graded tests that are pdf\n",
    "    graded_tests = glob.glob(korrektur_dir + '/korr/*.pdf')\n",
    "    \n",
    "    # iterate over list of graded tests\n",
    "    for test in graded_tests:\n",
    "        # get matrikel of graded tests and casted into integer\n",
    "        matrikel = int(test.split('/')[4][0:6])\n",
    "        # iterate over dictionary of matrikels of valid submissions\n",
    "        for key, val in matrikel_dic.items(): \n",
    "            # match matrikel with dictionary value\n",
    "            if matrikel == val: \n",
    "                # open pdf of test that matched\n",
    "                pdf = Pdf.open(test)    \n",
    "                # save file to korr-e directory created above and encrypted with matched key using md5 dictionary\n",
    "                pdf.save(f'./{korrektur_dir}/korr-e/{matrikel_dic[key]}-e.pdf', encryption=pikepdf.Encryption(owner=OWNER, user=f'{md5_dic[key]}', R=4)) \n",
    "                # close pdf of test that matched\n",
    "                pdf.close()"
   ]
  },
  {
   "cell_type": "code",
   "execution_count": null,
   "id": "ba944c0c-1219-45fd-9efa-2956a6573bd4",
   "metadata": {},
   "outputs": [],
   "source": [
    "encrypt_file_pdf(f'./{path}/korrektur')"
   ]
  },
  {
   "cell_type": "code",
   "execution_count": null,
   "id": "ea1df9a0-bba8-4db3-84d3-65b56c5edd68",
   "metadata": {},
   "outputs": [],
   "source": [
    "def encrypt_file_jpg(korrektur_dir):\n",
    "    '''\n",
    "    Input: korrektur directory containing korr and nicht-korr directory; korr directory contains the graded tests.\n",
    "    Output: encrypted graded tests in new korr-e directory inside korrektur directory.\n",
    "    '''\n",
    "    # make list of graded tests that are jpg\n",
    "    jpg_tests = glob.glob(korrektur_dir + '/korr/*.jpg')\n",
    "    \n",
    "    # iterative over list of graded tests that are jpg\n",
    "    for jpg_test in jpg_tests: \n",
    "        # get matrikel of graded tests and casted into integer\n",
    "        matrikel = int(jpg_test.split('/')[4][0:6])\n",
    "        # get directory of the test to convert into pdf and encrypt it\n",
    "        test = f'{korrektur_dir}/korr/{matrikel}.pdf'\n",
    "        # convert jpg into pdf\n",
    "        with open(test,'wb') as f: \n",
    "            f.write(img2pdf.convert(jpg_test))\n",
    "        # iterate over dictionary of matrikels of valid submissions\n",
    "        for key, val in matrikel_dic.items(): \n",
    "            # match matrikel with dictionary value\n",
    "            if matrikel == val: \n",
    "                # open pdf of test that matched\n",
    "                pdf = Pdf.open(test)    \n",
    "                # save file to korr-e directory created above and encrypted with matched key using md5 dictionary\n",
    "                pdf.save(f'./{korrektur_dir}/korr-e/{matrikel_dic[key]}-e.pdf', encryption=pikepdf.Encryption(owner=OWNER, user=f'{md5_dic[key]}', R=4)) \n",
    "                # close pdf of test that matched\n",
    "                pdf.close()"
   ]
  },
  {
   "cell_type": "code",
   "execution_count": null,
   "id": "c7c50ec4-762d-4274-b7c1-7c1f56cecb56",
   "metadata": {},
   "outputs": [],
   "source": [
    "encrypt_file_jpg(f'./{path}/korrektur')"
   ]
  },
  {
   "cell_type": "code",
   "execution_count": null,
   "id": "f51f18ec-ac97-40ef-bb2a-fd6a5ec2e28a",
   "metadata": {},
   "outputs": [],
   "source": []
  }
 ],
 "metadata": {
  "kernelspec": {
   "display_name": "Python 3 (ipykernel)",
   "language": "python",
   "name": "python3"
  },
  "language_info": {
   "codemirror_mode": {
    "name": "ipython",
    "version": 3
   },
   "file_extension": ".py",
   "mimetype": "text/x-python",
   "name": "python",
   "nbconvert_exporter": "python",
   "pygments_lexer": "ipython3",
   "version": "3.8.12"
  }
 },
 "nbformat": 4,
 "nbformat_minor": 5
}
